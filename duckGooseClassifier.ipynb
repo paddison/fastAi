{
  "nbformat": 4,
  "nbformat_minor": 0,
  "metadata": {
    "colab": {
      "name": "duckGooseClassifier.ipynb",
      "provenance": [],
      "collapsed_sections": [],
      "authorship_tag": "ABX9TyPm9SiR+a+/UDkd2NHe/BXk",
      "include_colab_link": true
    },
    "kernelspec": {
      "name": "python3",
      "display_name": "Python 3"
    },
    "language_info": {
      "name": "python"
    }
  },
  "cells": [
    {
      "cell_type": "markdown",
      "metadata": {
        "id": "view-in-github",
        "colab_type": "text"
      },
      "source": [
        "<a href=\"https://colab.research.google.com/github/paddison/fastAi/blob/main/duckGooseClassifier.ipynb\" target=\"_parent\"><img src=\"https://colab.research.google.com/assets/colab-badge.svg\" alt=\"Open In Colab\"/></a>"
      ]
    },
    {
      "cell_type": "code",
      "metadata": {
        "id": "_91XqfJatc7S"
      },
      "source": [
        "#hide\n",
        "!pip install -Uqq fastbook\n",
        "import fastbook\n",
        "fastbook.setup_book()\n",
        "from fastbook import *\n",
        "from fastai.vision.widgets import *\n",
        "import urllib.request"
      ],
      "execution_count": null,
      "outputs": []
    },
    {
      "cell_type": "code",
      "metadata": {
        "id": "p0ssEbYfya83"
      },
      "source": [
        "# create learner\n",
        "\n",
        "learn_inf = load_learner(Path(\".\")/\"export.pkl\")\n",
        "\n",
        "# create the necessary gui elements\n",
        "btn_run = widgets.Button(description='Classify')\n",
        "btn_upload = widgets.FileUpload()\n",
        "lbl_pred = widgets.Label()\n",
        "out_pl = widgets.Output()\n",
        "\n",
        "# create the on_click handler\n",
        "\n",
        "def on_click_classify(change): # why does it need an argument?\n",
        "  img = PILImage.create(btn_upload.data[-1]) \n",
        "  out_pl.clear_output()\n",
        "  with out_pl: \n",
        "    display(img.to_thumb(128, 128))\n",
        "  pred, pred_idx, probs = learn_inf.predict(img)\n",
        "  lbl_pred.value = f'Prediction: {pred}; Probability: {probs[pred_idx]:.04f}'\n",
        "\n",
        "btn_run.on_click(on_click_classify)\n",
        "\n",
        "VBox([widgets.Label('Duck or Goose?'), btn_upload, btn_run, out_pl, lbl_pred])"
      ],
      "execution_count": null,
      "outputs": []
    }
  ]
}